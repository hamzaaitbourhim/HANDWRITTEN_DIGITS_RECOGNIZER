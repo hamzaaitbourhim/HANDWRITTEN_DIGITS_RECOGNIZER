{
  "nbformat": 4,
  "nbformat_minor": 0,
  "metadata": {
    "colab": {
      "name": "HANDWRITTEN DIGITS RECOGNIZER.ipynb",
      "provenance": [],
      "collapsed_sections": [
        "IYaNa5eVbsow",
        "3VVsP96h590a"
      ],
      "include_colab_link": true
    },
    "kernelspec": {
      "name": "python3",
      "display_name": "Python 3"
    }
  },
  "cells": [
    {
      "cell_type": "markdown",
      "metadata": {
        "id": "view-in-github",
        "colab_type": "text"
      },
      "source": [
        "<a href=\"https://colab.research.google.com/github/hamzaaitbourhim/PFE-HANDWRITTEN-DIGITS-RECOGNIZER/blob/main/HANDWRITTEN_DIGITS_RECOGNIZER.ipynb\" target=\"_parent\"><img src=\"https://colab.research.google.com/assets/colab-badge.svg\" alt=\"Open In Colab\"/></a>"
      ]
    },
    {
      "cell_type": "markdown",
      "metadata": {
        "id": "IYaNa5eVbsow"
      },
      "source": [
        "# **1- AND perceptron without using TensorFlow :**\r\n",
        "\r\n"
      ]
    },
    {
      "cell_type": "code",
      "metadata": {
        "id": "4I4ObI4cbnKA",
        "colab": {
          "base_uri": "https://localhost:8080/"
        },
        "outputId": "276e7630-2721-44ed-e255-03f1d5572d0a"
      },
      "source": [
        "# importing numpy library \r\n",
        "import numpy\r\n",
        "\r\n",
        "# define perceptron function\r\n",
        "def perceptron(W, X):\r\n",
        "  if numpy.dot(W, X) > 0:\r\n",
        "    return 1\r\n",
        "  else:\r\n",
        "    return 0\r\n",
        "\r\n",
        "# define learn function\r\n",
        "def learn(W,X,Y):\r\n",
        "  for i in range(Y.size):\r\n",
        "    for j in range(W.size):\r\n",
        "      W[j] = W[j] + 0.2*(Y[i] - perceptron(W,X[i]))*X[i,j]\r\n",
        "    print(\"new parameters are : w0 = {}, w1 = {}, w2 = {}\".format(W[0], W[1], W[2]))\r\n",
        "\r\n",
        "# Parameters\r\n",
        "W = numpy.array([0.8, -1, -1]) # w0,w1 and w2 are initialized to 0.8, -1, -1\r\n",
        "\r\n",
        "# learning data x0 x1 x2 y\r\n",
        "X = numpy.array([[1, 0, 0], [1, 1, 1], [1, 0, 1], [1, 1, 0]])\r\n",
        "Y= numpy.array([0, 1, 0, 0])\r\n",
        "\r\n",
        "#call learn\r\n",
        "learn(W,X,Y)"
      ],
      "execution_count": null,
      "outputs": [
        {
          "output_type": "stream",
          "text": [
            "new parameters are : w0 = 0.6000000000000001, w1 = -1.0, w2 = -1.0\n",
            "new parameters are : w0 = 0.8, w1 = -0.8, w2 = -0.8\n",
            "new parameters are : w0 = 0.8, w1 = -0.8, w2 = -0.8\n",
            "new parameters are : w0 = 0.8, w1 = -0.8, w2 = -0.8\n"
          ],
          "name": "stdout"
        }
      ]
    },
    {
      "cell_type": "markdown",
      "metadata": {
        "id": "3VVsP96h590a"
      },
      "source": [
        "# **2- AND perceptron with TensorFlow :**"
      ]
    },
    {
      "cell_type": "code",
      "metadata": {
        "id": "TsIAM9oiZ2UH",
        "colab": {
          "base_uri": "https://localhost:8080/"
        },
        "outputId": "f8cec30d-9980-4349-c1f6-800a20cbf66d"
      },
      "source": [
        "#importing librairies\r\n",
        "import numpy as np\r\n",
        "import tensorflow as tf\r\n",
        "\r\n",
        "#input set\r\n",
        "x = np.array([ [1, 0, 0], [1, 1, 1], [1, 0, 1], [1, 1, 0] ])\r\n",
        "\r\n",
        "#desired output\r\n",
        "y = np.array([0, 1, 0, 0])\r\n",
        "\r\n",
        "#weights\r\n",
        "w = np.array([0.8, -1, -1])\r\n",
        "\r\n",
        "print(\"\\nWeights before learning: \\n\")\r\n",
        "print(w)\r\n",
        "\r\n",
        "#learning rate\r\n",
        "n = 0.2\r\n",
        "\r\n",
        "print(\"\\nWeights during learning: \\n\")\r\n",
        "#learning process\r\n",
        "for i in range(len(y)):\r\n",
        "        tmp = np.heaviside(tf.experimental.numpy.dot(x[i], w), 0)\r\n",
        "        w += tf.subtract(y[i] - tmp , 0) * n * x[i]\r\n",
        "        print(w)\r\n",
        "\r\n",
        "print(\"\\nWeights after learning: \\n\")\r\n",
        "print(w)\r\n",
        "\r\n",
        "print(\"\\nDesired Output: \\n\")\r\n",
        "print(y)\r\n",
        "\r\n",
        "print(\"\\nActual Output: \\n\")\r\n",
        "np.heaviside(np.dot(x, w), 0)"
      ],
      "execution_count": null,
      "outputs": [
        {
          "output_type": "stream",
          "text": [
            "\n",
            "Weights before learning: \n",
            "\n",
            "[ 0.8 -1.  -1. ]\n",
            "\n",
            "Weights during learning: \n",
            "\n",
            "tf.Tensor([ 0.6 -1.  -1. ], shape=(3,), dtype=float64)\n",
            "tf.Tensor([ 0.8 -0.8 -0.8], shape=(3,), dtype=float64)\n",
            "tf.Tensor([ 0.8 -0.8 -0.8], shape=(3,), dtype=float64)\n",
            "tf.Tensor([ 0.8 -0.8 -0.8], shape=(3,), dtype=float64)\n",
            "\n",
            "Weights after learning: \n",
            "\n",
            "tf.Tensor([ 0.8 -0.8 -0.8], shape=(3,), dtype=float64)\n",
            "\n",
            "Desired Output: \n",
            "\n",
            "[0 1 0 0]\n",
            "\n",
            "Actual Output: \n",
            "\n"
          ],
          "name": "stdout"
        },
        {
          "output_type": "execute_result",
          "data": {
            "text/plain": [
              "array([1., 0., 0., 0.])"
            ]
          },
          "metadata": {
            "tags": []
          },
          "execution_count": 4
        }
      ]
    },
    {
      "cell_type": "markdown",
      "metadata": {
        "id": "gWC5rIRGbn90"
      },
      "source": [
        ""
      ]
    }
  ]
}
